{
 "cells": [
  {
   "cell_type": "markdown",
   "metadata": {},
   "source": [
    "# Método de Newton multidimensional\n",
    "Pablo Zamora, Erick Guerra, Diego Morales Aquino"
   ]
  },
  {
   "cell_type": "code",
   "execution_count": 1,
   "metadata": {},
   "outputs": [],
   "source": [
    "import numpy as np\n",
    "from scipy.optimize import approx_fprime"
   ]
  },
  {
   "cell_type": "code",
   "execution_count": 2,
   "metadata": {},
   "outputs": [],
   "source": [
    "def calc_derivadas_parciales(f, x0):\n",
    "    grad = np.zeros(len(x0))\n",
    "    for i in range(len(x0)):\n",
    "        grad[i] = approx_fprime(x0, lambda x: f(x))[i]\n",
    "    return grad"
   ]
  },
  {
   "cell_type": "code",
   "execution_count": 3,
   "metadata": {},
   "outputs": [],
   "source": [
    "def newton(F, x0, max_iter, tol):\n",
    "\n",
    "  for i in range(max_iter):\n",
    "    \n",
    "    F_x0 = np.array([f(x0) for f in F])\n",
    "    dF_x0 = np.array([calc_derivadas_parciales(f, x0) for f in F])\n",
    "    dF_x0_inv = np.linalg.inv(dF_x0)\n",
    "\n",
    "    x0 = x0 - np.matmul(dF_x0_inv, F_x0)\n",
    "    F_x0 = np.array([f(x0) for f in F])\n",
    "\n",
    "    print(f\"Iteración {i}: x = {x0}\")\n",
    "\n",
    "    # Condición de parada de tolerancia\n",
    "    if np.linalg.norm(F_x0, ord=F_x0.shape[0]) < tol:\n",
    "      break\n",
    "\n",
    "  return x0"
   ]
  },
  {
   "cell_type": "code",
   "execution_count": 10,
   "metadata": {},
   "outputs": [
    {
     "name": "stdout",
     "output_type": "stream",
     "text": [
      "Iteración 0: x = [ 0.50021734  0.01948961 -0.52151864]\n",
      "Iteración 1: x = [ 0.50001427  0.00159199 -0.52355718]\n",
      "Iteración 2: x = [ 5.00000114e-01  1.24977997e-05 -5.23598449e-01]\n",
      "Iteración 3: x = [ 5.00000000e-01  7.83336466e-10 -5.23598776e-01]\n",
      "Iteración 4: x = [ 5.00000000e-01  6.25679062e-17 -5.23598776e-01]\n",
      "\n",
      "\n",
      "Converge en x = [ 5.00000000e-01  6.25679062e-17 -5.23598776e-01]\n"
     ]
    }
   ],
   "source": [
    "F = [\n",
    "    lambda x: 3*x[0] - np.cos(x[1] * x[2]) - 0.5,\n",
    "    lambda x: x[0]**2 - 81*(x[1] + 0.1)**2 + np.sin(x[2]) + 1.06,\n",
    "    lambda x: np.exp(-x[0] * x[1]) + 20*x[2] + (10*np.pi - 3)/3,\n",
    "]\n",
    "\n",
    "# Punto inicial\n",
    "x0 = np.array([0.1, 0.1, 0.1])\n",
    "\n",
    "x = newton(F, x0, 100, 1e-10)\n",
    "print(f\"\\n\\nConverge en x = {x}\")"
   ]
  },
  {
   "cell_type": "code",
   "execution_count": 12,
   "metadata": {},
   "outputs": [
    {
     "name": "stdout",
     "output_type": "stream",
     "text": [
      "F(x)=[0.0, -1.1102230246251565e-15, 1.7763568394002505e-15]\n"
     ]
    }
   ],
   "source": [
    "# Evaluar F en punto de convergencia\n",
    "print(f\"F(x)={[f(x) for f in F]}\")"
   ]
  }
 ],
 "metadata": {
  "kernelspec": {
   "display_name": "Python 3",
   "language": "python",
   "name": "python3"
  },
  "language_info": {
   "codemirror_mode": {
    "name": "ipython",
    "version": 3
   },
   "file_extension": ".py",
   "mimetype": "text/x-python",
   "name": "python",
   "nbconvert_exporter": "python",
   "pygments_lexer": "ipython3",
   "version": "3.11.7"
  }
 },
 "nbformat": 4,
 "nbformat_minor": 2
}
